{
 "cells": [
  {
   "cell_type": "code",
   "execution_count": null,
   "id": "46be23a8-bf83-49c7-bfbe-5e49f0d3f5d7",
   "metadata": {},
   "outputs": [],
   "source": []
  }
 ],
 "metadata": {
  "kernelspec": {
   "display_name": "",
   "name": ""
  },
  "language_info": {
   "name": ""
  }
 },
 "nbformat": 4,
 "nbformat_minor": 5
}
